{
 "cells": [
  {
   "cell_type": "markdown",
   "id": "e1ed9b2b",
   "metadata": {},
   "source": []
  },
  {
   "cell_type": "code",
   "execution_count": 2,
   "id": "1bffe553",
   "metadata": {},
   "outputs": [],
   "source": [
    "import requests\n",
    "import pandas as pd\n",
    "from sqlalchemy import create_engine\n"
   ]
  },
  {
   "cell_type": "code",
   "execution_count": 3,
   "id": "454c582b",
   "metadata": {},
   "outputs": [
    {
     "name": "stdout",
     "output_type": "stream",
     "text": [
      "Requirement already satisfied: snowflake-connector-python in c:\\users\\dell\\appdata\\local\\programs\\python\\python311\\lib\\site-packages (3.16.0)\n",
      "Requirement already satisfied: pandas in c:\\users\\dell\\appdata\\local\\programs\\python\\python311\\lib\\site-packages (2.3.0)\n",
      "Requirement already satisfied: asn1crypto<2.0.0,>0.24.0 in c:\\users\\dell\\appdata\\local\\programs\\python\\python311\\lib\\site-packages (from snowflake-connector-python) (1.5.1)\n",
      "Requirement already satisfied: boto3>=1.24 in c:\\users\\dell\\appdata\\local\\programs\\python\\python311\\lib\\site-packages (from snowflake-connector-python) (1.39.14)\n",
      "Requirement already satisfied: botocore>=1.24 in c:\\users\\dell\\appdata\\local\\programs\\python\\python311\\lib\\site-packages (from snowflake-connector-python) (1.39.14)\n",
      "Requirement already satisfied: cffi<2.0.0,>=1.9 in c:\\users\\dell\\appdata\\local\\programs\\python\\python311\\lib\\site-packages (from snowflake-connector-python) (1.17.1)\n",
      "Requirement already satisfied: cryptography>=3.1.0 in c:\\users\\dell\\appdata\\local\\programs\\python\\python311\\lib\\site-packages (from snowflake-connector-python) (45.0.5)\n",
      "Requirement already satisfied: pyOpenSSL<26.0.0,>=22.0.0 in c:\\users\\dell\\appdata\\local\\programs\\python\\python311\\lib\\site-packages (from snowflake-connector-python) (25.1.0)\n",
      "Requirement already satisfied: pyjwt<3.0.0 in c:\\users\\dell\\appdata\\local\\programs\\python\\python311\\lib\\site-packages (from snowflake-connector-python) (2.10.1)\n",
      "Requirement already satisfied: pytz in c:\\users\\dell\\appdata\\local\\programs\\python\\python311\\lib\\site-packages (from snowflake-connector-python) (2025.2)\n",
      "Requirement already satisfied: requests<3.0.0 in c:\\users\\dell\\appdata\\local\\programs\\python\\python311\\lib\\site-packages (from snowflake-connector-python) (2.32.4)\n",
      "Requirement already satisfied: packaging in c:\\users\\dell\\appdata\\roaming\\python\\python311\\site-packages (from snowflake-connector-python) (25.0)\n",
      "Requirement already satisfied: charset_normalizer<4,>=2 in c:\\users\\dell\\appdata\\local\\programs\\python\\python311\\lib\\site-packages (from snowflake-connector-python) (3.4.2)\n",
      "Requirement already satisfied: idna<4,>=2.5 in c:\\users\\dell\\appdata\\local\\programs\\python\\python311\\lib\\site-packages (from snowflake-connector-python) (3.10)\n",
      "Requirement already satisfied: certifi>=2017.4.17 in c:\\users\\dell\\appdata\\local\\programs\\python\\python311\\lib\\site-packages (from snowflake-connector-python) (2025.6.15)\n",
      "Requirement already satisfied: typing_extensions<5,>=4.3 in c:\\users\\dell\\appdata\\roaming\\python\\python311\\site-packages (from snowflake-connector-python) (4.14.0)\n",
      "Requirement already satisfied: filelock<4,>=3.5 in c:\\users\\dell\\appdata\\local\\programs\\python\\python311\\lib\\site-packages (from snowflake-connector-python) (3.18.0)\n",
      "Requirement already satisfied: sortedcontainers>=2.4.0 in c:\\users\\dell\\appdata\\local\\programs\\python\\python311\\lib\\site-packages (from snowflake-connector-python) (2.4.0)\n",
      "Requirement already satisfied: platformdirs<5.0.0,>=2.6.0 in c:\\users\\dell\\appdata\\roaming\\python\\python311\\site-packages (from snowflake-connector-python) (4.3.8)\n",
      "Requirement already satisfied: tomlkit in c:\\users\\dell\\appdata\\local\\programs\\python\\python311\\lib\\site-packages (from snowflake-connector-python) (0.13.3)\n",
      "Requirement already satisfied: numpy>=1.23.2 in c:\\users\\dell\\appdata\\local\\programs\\python\\python311\\lib\\site-packages (from pandas) (2.3.0)\n",
      "Requirement already satisfied: python-dateutil>=2.8.2 in c:\\users\\dell\\appdata\\roaming\\python\\python311\\site-packages (from pandas) (2.9.0.post0)\n",
      "Requirement already satisfied: tzdata>=2022.7 in c:\\users\\dell\\appdata\\local\\programs\\python\\python311\\lib\\site-packages (from pandas) (2025.2)\n",
      "Requirement already satisfied: jmespath<2.0.0,>=0.7.1 in c:\\users\\dell\\appdata\\local\\programs\\python\\python311\\lib\\site-packages (from boto3>=1.24->snowflake-connector-python) (1.0.1)\n",
      "Requirement already satisfied: s3transfer<0.14.0,>=0.13.0 in c:\\users\\dell\\appdata\\local\\programs\\python\\python311\\lib\\site-packages (from boto3>=1.24->snowflake-connector-python) (0.13.1)\n",
      "Requirement already satisfied: urllib3!=2.2.0,<3,>=1.25.4 in c:\\users\\dell\\appdata\\local\\programs\\python\\python311\\lib\\site-packages (from botocore>=1.24->snowflake-connector-python) (2.4.0)\n",
      "Requirement already satisfied: pycparser in c:\\users\\dell\\appdata\\local\\programs\\python\\python311\\lib\\site-packages (from cffi<2.0.0,>=1.9->snowflake-connector-python) (2.22)\n",
      "Requirement already satisfied: six>=1.5 in c:\\users\\dell\\appdata\\roaming\\python\\python311\\site-packages (from python-dateutil>=2.8.2->pandas) (1.17.0)\n",
      "Note: you may need to restart the kernel to use updated packages.\n"
     ]
    },
    {
     "name": "stderr",
     "output_type": "stream",
     "text": [
      "\n",
      "[notice] A new release of pip is available: 23.2.1 -> 25.1.1\n",
      "[notice] To update, run: python.exe -m pip install --upgrade pip\n"
     ]
    }
   ],
   "source": [
    "pip install snowflake-connector-python pandas\n"
   ]
  },
  {
   "cell_type": "code",
   "execution_count": 4,
   "id": "5184408d",
   "metadata": {},
   "outputs": [],
   "source": [
    "import snowflake.connector\n",
    "from snowflake.connector.pandas_tools import write_pandas\n",
    "\n",
    "\n"
   ]
  },
  {
   "cell_type": "code",
   "execution_count": 5,
   "id": "ab6a2985",
   "metadata": {},
   "outputs": [
    {
     "data": {
      "text/plain": [
       "<Response [200]>"
      ]
     },
     "execution_count": 5,
     "metadata": {},
     "output_type": "execute_result"
    }
   ],
   "source": [
    "url =\"https://api.openweathermap.org/data/2.5/weather?q=Nairobi&appid=34af55b3fa6cdf6c4f3c642af4d74875&units=metric\"\n",
    "response = requests.get(url)\n",
    "response"
   ]
  },
  {
   "cell_type": "code",
   "execution_count": 6,
   "id": "a1364a3b",
   "metadata": {},
   "outputs": [
    {
     "data": {
      "text/plain": [
       "{'coord': {'lon': 36.8167, 'lat': -1.2833},\n",
       " 'weather': [{'id': 803,\n",
       "   'main': 'Clouds',\n",
       "   'description': 'broken clouds',\n",
       "   'icon': '04d'}],\n",
       " 'base': 'stations',\n",
       " 'main': {'temp': 15.15,\n",
       "  'feels_like': 14.68,\n",
       "  'temp_min': 15.15,\n",
       "  'temp_max': 15.15,\n",
       "  'pressure': 1022,\n",
       "  'humidity': 75,\n",
       "  'sea_level': 1022,\n",
       "  'grnd_level': 842},\n",
       " 'visibility': 10000,\n",
       " 'wind': {'speed': 1.88, 'deg': 161, 'gust': 1.98},\n",
       " 'clouds': {'all': 84},\n",
       " 'dt': 1753770503,\n",
       " 'sys': {'country': 'KE', 'sunrise': 1753760240, 'sunset': 1753803652},\n",
       " 'timezone': 10800,\n",
       " 'id': 184745,\n",
       " 'name': 'Nairobi',\n",
       " 'cod': 200}"
      ]
     },
     "execution_count": 6,
     "metadata": {},
     "output_type": "execute_result"
    }
   ],
   "source": [
    "data = response.json()\n",
    "data"
   ]
  },
  {
   "cell_type": "code",
   "execution_count": 7,
   "id": "0de0245a",
   "metadata": {},
   "outputs": [],
   "source": [
    "data.keys()\n",
    "data_new = {\n",
    "    'weather type': data['weather'][0]['description'],\n",
    "    'temperature': data['main']['temp'],\n",
    "    'humidity': data['main']['humidity'],   \n",
    "    'wind speed': data['wind']['speed'],\n",
    "    'city': data['name'],\n",
    "    'country': data['sys']['country'],\n",
    "}"
   ]
  },
  {
   "cell_type": "code",
   "execution_count": 8,
   "id": "9486b6ae",
   "metadata": {},
   "outputs": [
    {
     "data": {
      "text/plain": [
       "{'temp': 15.15,\n",
       " 'feels_like': 14.68,\n",
       " 'temp_min': 15.15,\n",
       " 'temp_max': 15.15,\n",
       " 'pressure': 1022,\n",
       " 'humidity': 75,\n",
       " 'sea_level': 1022,\n",
       " 'grnd_level': 842}"
      ]
     },
     "execution_count": 8,
     "metadata": {},
     "output_type": "execute_result"
    }
   ],
   "source": [
    "data['main']"
   ]
  },
  {
   "cell_type": "code",
   "execution_count": 9,
   "id": "300c0d31",
   "metadata": {},
   "outputs": [
    {
     "data": {
      "text/plain": [
       "[{'weather type': 'broken clouds',\n",
       "  'temperature': 15.15,\n",
       "  'humidity': 75,\n",
       "  'wind speed': 1.88,\n",
       "  'city': 'Nairobi',\n",
       "  'country': 'KE'}]"
      ]
     },
     "execution_count": 9,
     "metadata": {},
     "output_type": "execute_result"
    }
   ],
   "source": [
    "weather_data = []\n",
    "weather_data.append(data_new)\n",
    "weather_data"
   ]
  },
  {
   "cell_type": "code",
   "execution_count": 10,
   "id": "38a65517",
   "metadata": {},
   "outputs": [
    {
     "data": {
      "text/html": [
       "<div>\n",
       "<style scoped>\n",
       "    .dataframe tbody tr th:only-of-type {\n",
       "        vertical-align: middle;\n",
       "    }\n",
       "\n",
       "    .dataframe tbody tr th {\n",
       "        vertical-align: top;\n",
       "    }\n",
       "\n",
       "    .dataframe thead th {\n",
       "        text-align: right;\n",
       "    }\n",
       "</style>\n",
       "<table border=\"1\" class=\"dataframe\">\n",
       "  <thead>\n",
       "    <tr style=\"text-align: right;\">\n",
       "      <th></th>\n",
       "      <th>weather type</th>\n",
       "      <th>temperature</th>\n",
       "      <th>humidity</th>\n",
       "      <th>wind speed</th>\n",
       "      <th>city</th>\n",
       "      <th>country</th>\n",
       "    </tr>\n",
       "  </thead>\n",
       "  <tbody>\n",
       "    <tr>\n",
       "      <th>0</th>\n",
       "      <td>broken clouds</td>\n",
       "      <td>15.15</td>\n",
       "      <td>75</td>\n",
       "      <td>1.88</td>\n",
       "      <td>Nairobi</td>\n",
       "      <td>KE</td>\n",
       "    </tr>\n",
       "  </tbody>\n",
       "</table>\n",
       "</div>"
      ],
      "text/plain": [
       "    weather type  temperature  humidity  wind speed     city country\n",
       "0  broken clouds        15.15        75        1.88  Nairobi      KE"
      ]
     },
     "execution_count": 10,
     "metadata": {},
     "output_type": "execute_result"
    }
   ],
   "source": [
    "df = pd.DataFrame(weather_data)\n",
    "df"
   ]
  },
  {
   "cell_type": "code",
   "execution_count": 16,
   "id": "d7964c7c",
   "metadata": {},
   "outputs": [],
   "source": [
    "import snowflake.connector\n",
    "\n",
    "# Create connection\n",
    "conn = snowflake.connector.connect(\n",
    "    user='MUCHIRI',\n",
    "    password='KQdennisso1234',\n",
    "    account='MDFGYCM-TX78967',\n",
    "    warehouse='COMPUTE_WH',\n",
    "    database='admin',   # Replace with actual DB\n",
    "    schema='data_modelling'        # Replace with actual schema\n",
    ")\n"
   ]
  },
  {
   "cell_type": "code",
   "execution_count": 18,
   "id": "6126a286",
   "metadata": {},
   "outputs": [
    {
     "data": {
      "text/plain": [
       "<snowflake.connector.cursor.SnowflakeCursor at 0x20550e06010>"
      ]
     },
     "execution_count": 18,
     "metadata": {},
     "output_type": "execute_result"
    }
   ],
   "source": [
    "cursor = conn.cursor()\n",
    "\n",
    "cursor.execute(\"\"\"\n",
    "INSERT INTO weather_data (weather_type, temperature_humidity, humidity, wind_speed, city, country)\n",
    "VALUES \n",
    "('clear sky', 25.0, 40, 5.0, 'Nairobi', 'KENYA'),\n",
    "('few clouds', 26.0, 45, 3.5, 'Nairobi', 'KENYA'),\n",
    "('scattered clouds', 24.0, 50, 4.0, 'Nairobi', 'KENYA'),\n",
    "('broken clouds', 23.0, 55, 2.5, 'Nairobi', 'KENYA'),\n",
    "('shower rain', 22.0, 60, 6.0, 'Nairobi', 'KENYA'),\n",
    "('rain', 21.0, 65, 7.0, 'Nairobi', 'KENYA') \"\"\")"
   ]
  },
  {
   "cell_type": "code",
   "execution_count": null,
   "id": "b50acfbd",
   "metadata": {},
   "outputs": [],
   "source": [
    "\n"
   ]
  }
 ],
 "metadata": {
  "kernelspec": {
   "display_name": "Python 3",
   "language": "python",
   "name": "python3"
  },
  "language_info": {
   "codemirror_mode": {
    "name": "ipython",
    "version": 3
   },
   "file_extension": ".py",
   "mimetype": "text/x-python",
   "name": "python",
   "nbconvert_exporter": "python",
   "pygments_lexer": "ipython3",
   "version": "3.11.6"
  }
 },
 "nbformat": 4,
 "nbformat_minor": 5
}
